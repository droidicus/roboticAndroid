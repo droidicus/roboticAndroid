{
 "cells": [
  {
   "cell_type": "code",
   "execution_count": null,
   "metadata": {},
   "outputs": [],
   "source": [
    "import pandas as pd\n",
    "from datetime import datetime, timedelta\n",
    "from matplotlib import pyplot as plt\n",
    "import numpy as np\n",
    "from scipy import interpolate\n",
    "\n",
    "# %matplotlib widget\n",
    "%matplotlib inline"
   ]
  },
  {
   "cell_type": "code",
   "execution_count": null,
   "metadata": {},
   "outputs": [],
   "source": [
    "FILE_NAME = 'all'\n",
    "OUTPUT_DATA_FILE = f'{FILE_NAME}_data.parquet'\n",
    "OUTPUT_METADATA_FILE = f'{FILE_NAME}_meta.parquet'\n",
    "\n",
    "WINDOW_SIZE = 4"
   ]
  },
  {
   "cell_type": "code",
   "execution_count": null,
   "metadata": {},
   "outputs": [],
   "source": [
    "data = pd.read_parquet(f'{OUTPUT_DATA_FILE}')\n",
    "metadata = pd.read_parquet(f'{OUTPUT_METADATA_FILE}')"
   ]
  },
  {
   "cell_type": "code",
   "execution_count": null,
   "metadata": {},
   "outputs": [],
   "source": [
    "data"
   ]
  },
  {
   "cell_type": "code",
   "execution_count": null,
   "metadata": {},
   "outputs": [],
   "source": [
    "metadata"
   ]
  },
  {
   "cell_type": "code",
   "execution_count": null,
   "metadata": {},
   "outputs": [],
   "source": [
    "# ax = data.plot.hist(by='creation_datetime')\n",
    "datetimes = []\n",
    "for i in data['creation_datetime']:\n",
    "    datetimes.append(i.to_datetime64())"
   ]
  },
  {
   "cell_type": "code",
   "execution_count": null,
   "metadata": {},
   "outputs": [],
   "source": [
    "with plt.xkcd(scale=0.5):\n",
    "    plt.figure(figsize=(1920/80,1080/80))\n",
    "    plot = plt.hist(datetimes, bins=64)\n",
    "    plt.savefig('hist.png')\n",
    "    plt.show()"
   ]
  },
  {
   "cell_type": "code",
   "execution_count": null,
   "metadata": {},
   "outputs": [],
   "source": [
    "data['author'].value_counts()[:10]"
   ]
  },
  {
   "cell_type": "code",
   "execution_count": null,
   "metadata": {},
   "outputs": [],
   "source": [
    "data['author_id'].value_counts()[:10]"
   ]
  },
  {
   "cell_type": "code",
   "execution_count": null,
   "metadata": {},
   "outputs": [],
   "source": [
    "data.info()"
   ]
  },
  {
   "cell_type": "code",
   "execution_count": null,
   "metadata": {},
   "outputs": [],
   "source": [
    "metadata.info()"
   ]
  },
  {
   "cell_type": "code",
   "execution_count": null,
   "metadata": {},
   "outputs": [],
   "source": []
  },
  {
   "cell_type": "code",
   "execution_count": null,
   "metadata": {},
   "outputs": [],
   "source": [
    "# import numpy as np\n",
    "# # Generating a sample of 10000 timestamps and selecting 500 to randomize them\n",
    "# df = pd.DataFrame(np.random.choice(pd.date_range(start=pd.to_datetime('2015-01-14'),periods = 10000, freq='S'), 500),  columns=['date'])\n",
    "# # Setting the date as the index since the TimeGrouper works on Index, the date column is not dropped to be able to count\n",
    "# df.set_index('date', drop=False, inplace=True)\n",
    "# # Getting the histogram\n",
    "# df.groupby(pd.TimeGrouper(freq='10Min')).count().plot(kind='bar')"
   ]
  },
  {
   "cell_type": "code",
   "execution_count": null,
   "metadata": {},
   "outputs": [],
   "source": [
    "# plt.plot(data['creation_datetime'].sort_values().diff()[1:].dt.total_seconds())\n",
    "# plt.show()"
   ]
  },
  {
   "cell_type": "code",
   "execution_count": null,
   "metadata": {},
   "outputs": [],
   "source": [
    "AVG_REQ_PERSEC = 0.06\n",
    "WINDOW_LENGTH_SEC = 7*24*60*60\n",
    "WINDOW_SIZE = int(round(AVG_REQ_PERSEC * WINDOW_LENGTH_SEC))\n",
    "\n",
    "# print(WINDOW_SIZE)\n",
    "\n",
    "sorted_datetimes = data['creation_datetime'].sort_values(ignore_index=True)\n",
    "rolling_sec_per_req = sorted_datetimes.diff()[1:].dt.total_seconds().rolling(WINDOW_SIZE, win_type='blackmanharris').mean()[WINDOW_SIZE:].to_numpy()\n",
    "rolling_req_per_sec = 1.0/rolling_sec_per_req"
   ]
  },
  {
   "cell_type": "code",
   "execution_count": null,
   "metadata": {},
   "outputs": [],
   "source": [
    "print(f'sum rolling_sec_per_req: {np.sum(rolling_sec_per_req)}')\n",
    "print(f'sum rolling_req_per_sec: {np.sum(rolling_req_per_sec)}')\n",
    "\n",
    "print(f'From {sorted_datetimes.to_numpy()[0]} to {sorted_datetimes.to_numpy()[-1]}')\n",
    "timespan = (sorted_datetimes.to_numpy()[-1] - sorted_datetimes.to_numpy()[0])/np.timedelta64(1, 's')\n",
    "print(f'Total time: {timespan}')\n",
    "print(f'Total messages: {len(sorted_datetimes)}')\n",
    "print(f'Avg msg/sec: {len(sorted_datetimes)/timespan}')"
   ]
  },
  {
   "cell_type": "code",
   "execution_count": null,
   "metadata": {},
   "outputs": [],
   "source": [
    "with plt.xkcd(scale=0.5):\n",
    "    plt.figure(figsize=(3840/80,2160/80))\n",
    "    plt.plot(sorted_datetimes.to_numpy()[WINDOW_SIZE+1:], rolling_req_per_sec)\n",
    "    plt.ylim(0, np.max(rolling_req_per_sec))\n",
    "    plt.xlim(np.min(sorted_datetimes.to_numpy()[WINDOW_SIZE:]), np.max(sorted_datetimes.to_numpy()[WINDOW_SIZE:]))\n",
    "\n",
    "    plt.savefig('test.png')\n",
    "    plt.show()"
   ]
  },
  {
   "cell_type": "code",
   "execution_count": null,
   "metadata": {},
   "outputs": [],
   "source": [
    "OUTPUT_TS = 15*60.0\n",
    "\n",
    "total_seconds = (sorted_datetimes[len(sorted_datetimes)-1] - sorted_datetimes[0]).total_seconds()\n",
    "\n",
    "input_points = [i.total_seconds() for i in (sorted_datetimes - sorted_datetimes[0])]\n",
    "output_points = [i*OUTPUT_TS for i in range(int(round(total_seconds/OUTPUT_TS)))] # [(sorted_datetimes[0] + pd.Timedelta(pd.offsets.Minute(i))).total_seconds() for i in range(total_minutes)]\n",
    "input_data = sorted_datetimes.diff().dt.total_seconds()\n",
    "\n",
    "output_data = np.interp(output_points[1:], input_points, input_data)\n",
    "# output_data = interpolate.interp1d(input_points, input_data, kind='cubic')(output_points[1:])\n",
    "# output_data = interpolate.UnivariateSpline(input_points, input_data)(output_points[1:])\n",
    "\n",
    "start_datetime = sorted_datetimes[0].to_pydatetime()\n",
    "output_timestamps = [start_datetime + timedelta(seconds=i) for i in output_points[1:]]"
   ]
  },
  {
   "cell_type": "code",
   "execution_count": null,
   "metadata": {},
   "outputs": [],
   "source": [
    "WINDOW_LENGTH_SEC = 30*24*60*60\n",
    "WINDOW_SIZE_UNIFORM = int(round(WINDOW_LENGTH_SEC/OUTPUT_TS))\n",
    "print(WINDOW_SIZE_UNIFORM)\n",
    "\n",
    "output_rate = pd.Series(1.0/output_data).rolling(WINDOW_SIZE_UNIFORM, win_type='blackmanharris').mean().to_numpy()\n",
    "\n",
    "with plt.xkcd(scale=0.5):\n",
    "    plt.figure(figsize=(1920/80, 1080/80))\n",
    "    plt.plot(output_timestamps[WINDOW_SIZE_UNIFORM:], output_rate[WINDOW_SIZE_UNIFORM:])\n",
    "\n",
    "    plt.ylim(0, np.max(output_rate[WINDOW_SIZE_UNIFORM:]))\n",
    "    plt.xlim(output_timestamps[0], output_timestamps[-1])\n",
    "\n",
    "    plt.title(f'Averaged Smoothed Message Rate Over History ({WINDOW_LENGTH_SEC} sec window)')\n",
    "    plt.xlabel('Datetime')\n",
    "    plt.ylabel('msg/sec (avg)')\n",
    "\n",
    "    plt.savefig('test.png')\n",
    "    plt.show()"
   ]
  },
  {
   "cell_type": "code",
   "execution_count": null,
   "metadata": {},
   "outputs": [],
   "source": []
  },
  {
   "cell_type": "code",
   "execution_count": null,
   "metadata": {},
   "outputs": [],
   "source": [
    "inp.shape"
   ]
  },
  {
   "cell_type": "code",
   "execution_count": null,
   "metadata": {},
   "outputs": [],
   "source": [
    "input_points[29157]"
   ]
  },
  {
   "cell_type": "code",
   "execution_count": null,
   "metadata": {},
   "outputs": [],
   "source": [
    "input_points[29158]"
   ]
  },
  {
   "cell_type": "code",
   "execution_count": null,
   "metadata": {},
   "outputs": [],
   "source": [
    "OUTPUT_TS = 60.0\n",
    "\n",
    "output_points = [i*OUTPUT_TS for i in range(int(round(total_seconds/OUTPUT_TS)))]"
   ]
  },
  {
   "cell_type": "code",
   "execution_count": null,
   "metadata": {},
   "outputs": [],
   "source": [
    "tmp[1:]"
   ]
  },
  {
   "cell_type": "code",
   "execution_count": null,
   "metadata": {},
   "outputs": [],
   "source": [
    "len(input_points)"
   ]
  },
  {
   "cell_type": "code",
   "execution_count": null,
   "metadata": {},
   "outputs": [],
   "source": [
    "type((sorted_datetimes[0] + pd.Timedelta(pd.offsets.Minute(2))))"
   ]
  },
  {
   "cell_type": "code",
   "execution_count": null,
   "metadata": {},
   "outputs": [],
   "source": []
  },
  {
   "cell_type": "code",
   "execution_count": null,
   "metadata": {},
   "outputs": [],
   "source": [
    "range(int(round(total_seconds/OUTPUT_TS)))"
   ]
  },
  {
   "cell_type": "code",
   "execution_count": null,
   "metadata": {},
   "outputs": [],
   "source": [
    "input_points"
   ]
  },
  {
   "cell_type": "code",
   "execution_count": null,
   "metadata": {},
   "outputs": [],
   "source": [
    "output_points"
   ]
  },
  {
   "cell_type": "code",
   "execution_count": null,
   "metadata": {},
   "outputs": [],
   "source": []
  },
  {
   "cell_type": "code",
   "execution_count": null,
   "metadata": {},
   "outputs": [],
   "source": [
    "output_timestamps[:10]"
   ]
  },
  {
   "cell_type": "code",
   "execution_count": null,
   "metadata": {},
   "outputs": [],
   "source": [
    "output_timestamps[-10:]"
   ]
  },
  {
   "cell_type": "code",
   "execution_count": null,
   "metadata": {},
   "outputs": [],
   "source": [
    "sorted_datetimes[len(sorted_datetimes)-1]"
   ]
  },
  {
   "cell_type": "code",
   "execution_count": null,
   "metadata": {},
   "outputs": [],
   "source": [
    "sorted_datetimes[0]"
   ]
  },
  {
   "cell_type": "code",
   "execution_count": null,
   "metadata": {},
   "outputs": [],
   "source": [
    "output_points[-10:]"
   ]
  },
  {
   "cell_type": "code",
   "execution_count": null,
   "metadata": {},
   "outputs": [],
   "source": [
    "# for i in range(100):\n",
    "#     print(data.content[i])\n",
    "num = 1\n",
    "for i in data.content.sample(n=10):\n",
    "    print(f'{num} - {i}')\n",
    "    num += 1"
   ]
  },
  {
   "cell_type": "code",
   "execution_count": null,
   "metadata": {},
   "outputs": [],
   "source": []
  },
  {
   "cell_type": "code",
   "execution_count": null,
   "metadata": {},
   "outputs": [],
   "source": []
  },
  {
   "cell_type": "code",
   "execution_count": null,
   "metadata": {},
   "outputs": [],
   "source": []
  }
 ],
 "metadata": {
  "kernelspec": {
   "display_name": "Python (discord)",
   "language": "python",
   "name": "discord"
  },
  "language_info": {
   "codemirror_mode": {
    "name": "ipython",
    "version": 3
   },
   "file_extension": ".py",
   "mimetype": "text/x-python",
   "name": "python",
   "nbconvert_exporter": "python",
   "pygments_lexer": "ipython3",
   "version": "3.7.6"
  }
 },
 "nbformat": 4,
 "nbformat_minor": 4
}
